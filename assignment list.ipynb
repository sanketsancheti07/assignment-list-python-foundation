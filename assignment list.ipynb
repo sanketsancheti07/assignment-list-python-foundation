{
 "cells": [
  {
   "cell_type": "markdown",
   "id": "e1a51e81",
   "metadata": {},
   "source": [
    "# Q.1"
   ]
  },
  {
   "cell_type": "code",
   "execution_count": 1,
   "id": "f0362047",
   "metadata": {},
   "outputs": [],
   "source": [
    "l = []"
   ]
  },
  {
   "cell_type": "code",
   "execution_count": 2,
   "id": "73f684ef",
   "metadata": {},
   "outputs": [
    {
     "data": {
      "text/plain": [
       "[]"
      ]
     },
     "execution_count": 2,
     "metadata": {},
     "output_type": "execute_result"
    }
   ],
   "source": [
    "l"
   ]
  },
  {
   "cell_type": "markdown",
   "id": "e94d134a",
   "metadata": {},
   "source": [
    "# Q.2"
   ]
  },
  {
   "cell_type": "code",
   "execution_count": 12,
   "id": "fbabd120",
   "metadata": {},
   "outputs": [],
   "source": [
    "l = [1,2,3,4]"
   ]
  },
  {
   "cell_type": "code",
   "execution_count": 4,
   "id": "3645ffd1",
   "metadata": {},
   "outputs": [],
   "source": [
    "l.append(\"sanket\")"
   ]
  },
  {
   "cell_type": "code",
   "execution_count": 5,
   "id": "cd9b2de7",
   "metadata": {},
   "outputs": [
    {
     "data": {
      "text/plain": [
       "[1, 2, 3, 4, 'sanket']"
      ]
     },
     "execution_count": 5,
     "metadata": {},
     "output_type": "execute_result"
    }
   ],
   "source": [
    "l"
   ]
  },
  {
   "cell_type": "markdown",
   "id": "6e7f24c3",
   "metadata": {},
   "source": [
    "# Q.3"
   ]
  },
  {
   "cell_type": "code",
   "execution_count": 6,
   "id": "3a12238d",
   "metadata": {},
   "outputs": [
    {
     "data": {
      "text/plain": [
       "'sanket'"
      ]
     },
     "execution_count": 6,
     "metadata": {},
     "output_type": "execute_result"
    }
   ],
   "source": [
    "l[-1]"
   ]
  },
  {
   "cell_type": "markdown",
   "id": "87fe1346",
   "metadata": {},
   "source": [
    "# Q.4"
   ]
  },
  {
   "cell_type": "code",
   "execution_count": 7,
   "id": "7b19014c",
   "metadata": {},
   "outputs": [
    {
     "data": {
      "text/plain": [
       "['sanket', 4, 3, 2, 1]"
      ]
     },
     "execution_count": 7,
     "metadata": {},
     "output_type": "execute_result"
    }
   ],
   "source": [
    "l[::-1]"
   ]
  },
  {
   "cell_type": "markdown",
   "id": "e6f109d2",
   "metadata": {},
   "source": [
    "# Q.5"
   ]
  },
  {
   "cell_type": "code",
   "execution_count": 13,
   "id": "85c44922",
   "metadata": {},
   "outputs": [],
   "source": [
    "l.sort()"
   ]
  },
  {
   "cell_type": "code",
   "execution_count": 14,
   "id": "4f3a7260",
   "metadata": {},
   "outputs": [
    {
     "data": {
      "text/plain": [
       "[1, 2, 3, 4]"
      ]
     },
     "execution_count": 14,
     "metadata": {},
     "output_type": "execute_result"
    }
   ],
   "source": [
    "l"
   ]
  },
  {
   "cell_type": "markdown",
   "id": "5f3916b7",
   "metadata": {},
   "source": [
    "# Q.6"
   ]
  },
  {
   "cell_type": "code",
   "execution_count": 15,
   "id": "8f6c344d",
   "metadata": {},
   "outputs": [],
   "source": [
    "movies = [\"singham\",\"ala vaikunthapuramallo\",\"rishte\"]"
   ]
  },
  {
   "cell_type": "code",
   "execution_count": 16,
   "id": "e54647cd",
   "metadata": {},
   "outputs": [
    {
     "data": {
      "text/plain": [
       "'ala vaikunthapuramallo'"
      ]
     },
     "execution_count": 16,
     "metadata": {},
     "output_type": "execute_result"
    }
   ],
   "source": [
    "movies[1]"
   ]
  },
  {
   "cell_type": "markdown",
   "id": "a2c968d7",
   "metadata": {},
   "source": [
    "# Q.7"
   ]
  },
  {
   "cell_type": "code",
   "execution_count": 17,
   "id": "e4c793ff",
   "metadata": {},
   "outputs": [],
   "source": [
    "animals = [\"dog\",\"cat\",\"horse\",\"tiger\"]"
   ]
  },
  {
   "cell_type": "code",
   "execution_count": 18,
   "id": "ccf56d00",
   "metadata": {},
   "outputs": [],
   "source": [
    "animals.append(\"ship\")"
   ]
  },
  {
   "cell_type": "code",
   "execution_count": 19,
   "id": "02b7dd79",
   "metadata": {},
   "outputs": [
    {
     "data": {
      "text/plain": [
       "['dog', 'cat', 'horse', 'tiger', 'ship']"
      ]
     },
     "execution_count": 19,
     "metadata": {},
     "output_type": "execute_result"
    }
   ],
   "source": [
    "animals"
   ]
  },
  {
   "cell_type": "markdown",
   "id": "f6ff7c71",
   "metadata": {},
   "source": [
    "# Q.8"
   ]
  },
  {
   "cell_type": "code",
   "execution_count": 20,
   "id": "96dbb31f",
   "metadata": {},
   "outputs": [],
   "source": [
    "city = ['nagpur','mumbai','calcutta','hyderabad','nashik']"
   ]
  },
  {
   "cell_type": "code",
   "execution_count": 21,
   "id": "567d4e07",
   "metadata": {},
   "outputs": [
    {
     "data": {
      "text/plain": [
       "3"
      ]
     },
     "execution_count": 21,
     "metadata": {},
     "output_type": "execute_result"
    }
   ],
   "source": [
    "city.index(\"hyderabad\")"
   ]
  },
  {
   "cell_type": "code",
   "execution_count": null,
   "id": "fa28db29",
   "metadata": {},
   "outputs": [],
   "source": []
  }
 ],
 "metadata": {
  "kernelspec": {
   "display_name": "Python 3 (ipykernel)",
   "language": "python",
   "name": "python3"
  },
  "language_info": {
   "codemirror_mode": {
    "name": "ipython",
    "version": 3
   },
   "file_extension": ".py",
   "mimetype": "text/x-python",
   "name": "python",
   "nbconvert_exporter": "python",
   "pygments_lexer": "ipython3",
   "version": "3.9.16"
  }
 },
 "nbformat": 4,
 "nbformat_minor": 5
}
